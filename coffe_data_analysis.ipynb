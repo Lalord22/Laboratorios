{
  "nbformat": 4,
  "nbformat_minor": 0,
  "metadata": {
    "colab": {
      "provenance": [],
      "authorship_tag": "ABX9TyOFvObnTQhVa4DBLqeEHHoJ",
      "include_colab_link": true
    },
    "kernelspec": {
      "name": "python3",
      "display_name": "Python 3"
    },
    "language_info": {
      "name": "python"
    }
  },
  "cells": [
    {
      "cell_type": "markdown",
      "metadata": {
        "id": "view-in-github",
        "colab_type": "text"
      },
      "source": [
        "<a href=\"https://colab.research.google.com/github/Lalord22/Laboratorios/blob/main/coffe_data_analysis.ipynb\" target=\"_parent\"><img src=\"https://colab.research.google.com/assets/colab-badge.svg\" alt=\"Open In Colab\"/></a>"
      ]
    },
    {
      "cell_type": "code",
      "execution_count": 5,
      "metadata": {
        "colab": {
          "base_uri": "https://localhost:8080/"
        },
        "id": "5quknZuJLmGZ",
        "outputId": "79ea6110-caa7-4163-8144-fd70a3810ecf"
      },
      "outputs": [
        {
          "output_type": "stream",
          "name": "stdout",
          "text": [
            "                            name                    roaster         roast  \\\n",
            "0        “Sweety” Espresso Blend                     A.R.C.  Medium-Light   \n",
            "1           Flora Blend Espresso                     A.R.C.  Medium-Light   \n",
            "2       Ethiopia Shakiso Mormora               Revel Coffee  Medium-Light   \n",
            "3             Ethiopia Suke Quto                Roast House  Medium-Light   \n",
            "4     Ethiopia Gedeb Halo Beriti  Big Creek Coffee Roasters        Medium   \n",
            "...                          ...                        ...           ...   \n",
            "2090              Finca Patzibir               El Gran Cafe  Medium-Light   \n",
            "2091             Proyecto Aurora               El Gran Cafe  Medium-Light   \n",
            "2092            Finca El Potrero               El Gran Cafe  Medium-Light   \n",
            "2093    Chacayá Santiago Atitlán               El Gran Cafe  Medium-Light   \n",
            "2094              Espresso No. 3               El Gran Cafe  Medium-Light   \n",
            "\n",
            "        loc_country                     origin_1           origin_2  100g_USD  \\\n",
            "0         Hong Kong                       Panama           Ethiopia     14.32   \n",
            "1         Hong Kong                       Africa       Asia Pacific      9.05   \n",
            "2     United States                    Guji Zone  Southern Ethiopia      4.70   \n",
            "3     United States                    Guji Zone      Oromia Region      4.19   \n",
            "4     United States               Gedeb District         Gedeo Zone      4.85   \n",
            "...             ...                          ...                ...       ...   \n",
            "2090      Guatemala  Lake Atitlán Growing Region          Guatemala      4.70   \n",
            "2091      Guatemala       Antigua Growing Region          Guatemala      2.94   \n",
            "2092      Guatemala       Antigua Growing Region          Guatemala      2.94   \n",
            "2093      Guatemala  Lake Atitlán Growing Region          Guatemala      4.70   \n",
            "2094      Guatemala       Antigua Growing Region          Guatemala      5.88   \n",
            "\n",
            "      rating    review_date  \\\n",
            "0         95  November 2017   \n",
            "1         94  November 2017   \n",
            "2         92  November 2017   \n",
            "3         92  November 2017   \n",
            "4         94  November 2017   \n",
            "...      ...            ...   \n",
            "2090      92  November 2022   \n",
            "2091      93  November 2022   \n",
            "2092      93  November 2022   \n",
            "2093      93  November 2022   \n",
            "2094      94  November 2022   \n",
            "\n",
            "                                                 desc_1  \\\n",
            "0     Evaluated as espresso. Sweet-toned, deeply ric...   \n",
            "1     Evaluated as espresso. Sweetly tart, floral-to...   \n",
            "2     Crisply sweet, cocoa-toned. Lemon blossom, roa...   \n",
            "3     Delicate, sweetly spice-toned. Pink peppercorn...   \n",
            "4     Deeply sweet, subtly pungent. Honey, pear, tan...   \n",
            "...                                                 ...   \n",
            "2090  Crisply sweet, nut-toned. Almond brittle, pie ...   \n",
            "2091  Chocolaty, floral-framed. Cocoa nib, honeysuck...   \n",
            "2092  High-toned, enticingly sweet. Black cherry, na...   \n",
            "2093   Vibrantly sweet, subtly nuanced. Apricot, dar...   \n",
            "2094  Evaluated as espresso. Multi-layered, complex....   \n",
            "\n",
            "                                                 desc_2  \\\n",
            "0     An espresso blend comprised of coffees from Pa...   \n",
            "1     An espresso blend comprised of coffees from Af...   \n",
            "2     This coffee tied for the third-highest rating ...   \n",
            "3     This coffee tied for the third-highest rating ...   \n",
            "4     Southern Ethiopia coffees like this one are pr...   \n",
            "...                                                 ...   \n",
            "2090  Produced by Andres Fahsen of Finca Patzibar en...   \n",
            "2091  Produced at Beneficio La Esperanza from trees ...   \n",
            "2092   Produced by Josué Morales of Finca El Potrero...   \n",
            "2093  Produced by smallholding farmers of Asociación...   \n",
            "2094  Produced by Josué Morales at Finca Villa La Es...   \n",
            "\n",
            "                                                 desc_3  \n",
            "0     A radiant espresso blend that shines equally i...  \n",
            "1     A floral-driven straight shot, amplified with ...  \n",
            "2     A gently spice-toned, floral- driven wet-proce...  \n",
            "3     Lavender-like flowers and hints of zesty pink ...  \n",
            "4     A deeply and generously lush cup saved from se...  \n",
            "...                                                 ...  \n",
            "2090  A quietly confident, sweetly nut-toned Guatema...  \n",
            "2091  A deeply floral, richly chocolaty Guatemala cu...  \n",
            "2092  A bright, balanced, juicy Guatemala cup driven...  \n",
            "2093  Balanced, bright, invigoratingly crisp, with t...  \n",
            "2094  This single-farm Guatemala espresso displays t...  \n",
            "\n",
            "[2095 rows x 12 columns]\n"
          ]
        }
      ],
      "source": [
        "#libreria de graficos\n",
        "import matplotlib.pyplot as plt\n",
        "\n",
        "#Otra libreria de graficacion\n",
        "import seaborn as sns\n",
        "\n",
        "#Apertura de archivo\n",
        "import pandas as pd\n",
        "datos=pd.read_csv('/content/coffee_analysis.csv')\n",
        "data=pd.DataFrame(datos)\n",
        "\n",
        "dataFiltered2018=data.loc[(data['name'] == 'La hermosa')]\n",
        "\n",
        "\n",
        "print(data)"
      ]
    },
    {
      "cell_type": "code",
      "source": [
        "dataFiltered201=data.sort_values(by=['100g_USD'])\n",
        "print(dataFiltered201)"
      ],
      "metadata": {
        "id": "qMgNDIhhCmby",
        "outputId": "e9a2a0cf-2a1c-412b-c5d4-bcf7b70e2332",
        "colab": {
          "base_uri": "https://localhost:8080/"
        }
      },
      "execution_count": null,
      "outputs": [
        {
          "output_type": "stream",
          "name": "stdout",
          "text": [
            "                                       name                          roaster  \\\n",
            "209                               Cold Brew         Barefoot Coffee Roasters   \n",
            "763                Karen J Kona Red Bourbon           Hula Daddy Kona Coffee   \n",
            "673                         100% Guatemalan              Hill's Bros. Coffee   \n",
            "1732                         Espresso Blend                   Ba Yang Coffee   \n",
            "814   Asfaw Maru Ethiopia Natural Cold Brew                   Collage Coffee   \n",
            "...                                     ...                              ...   \n",
            "811          Esmeralda Estate Panama Geisha                Difference Coffee   \n",
            "1755                Ecuador Finca Cruz Loma  Simon Hsieh Aroma Roast Coffees   \n",
            "1785    Ecuador Taza Dorada Finca Cruz Loma                Paradise Roasters   \n",
            "1578      Ethiopia Tamiru Tadesse Anaerobic               Genesis Coffee Lab   \n",
            "1577                      Mama Cata Mokkita                Paradise Roasters   \n",
            "\n",
            "             roast    loc_country                             origin_1  \\\n",
            "209            NaN  United States                            Guatemala   \n",
            "763   Medium-Light        Hawai'i                             Holualoa   \n",
            "673    Medium-Dark  United States                            Guatemala   \n",
            "1732        Medium         Taiwan                                India   \n",
            "814            NaN  United States           Yirgacheffe Growing Region   \n",
            "...            ...            ...                                  ...   \n",
            "811            NaN        England               Boquete Growing Region   \n",
            "1755   Medium-Dark         Taiwan                    San Jose De Minas   \n",
            "1785  Medium-Light  United States                    San Jose De Minas   \n",
            "1578         Light  United States  Sidamo (Also Sidama) Growing Region   \n",
            "1577  Medium-Light  United States               Boquete Growing Region   \n",
            "\n",
            "                         origin_2  100g_USD  rating    review_date  \\\n",
            "209                 Not Disclosed      0.12      90      July 2018   \n",
            "763   North Kona Growing District      0.17      94       May 2020   \n",
            "673                      Colombia      0.99      87  February 2020   \n",
            "1732                       Brazil      1.13      92     March 2022   \n",
            "814             Southern Ethiopia      1.32      93      July 2020   \n",
            "...                           ...       ...     ...            ...   \n",
            "811                Western Panama    111.11      94      June 2020   \n",
            "1755                    Pichincha    115.20      95     April 2022   \n",
            "1785                    Pichincha    123.46      96     April 2022   \n",
            "1578       South-Central Ethiopia    127.87      96  November 2021   \n",
            "1577               Western Panama    132.28      97  November 2021   \n",
            "\n",
            "                                                 desc_1  \\\n",
            "209   A ready-to-drink bottled black coffee tested o...   \n",
            "763   Crisply fruit-centered, floral-toned. Mango, c...   \n",
            "673   Sweetly nut-toned, roasty. Hazelnut, baking ch...   \n",
            "1732  Evaluated as espresso. Chocolaty and nut-toned...   \n",
            "814   A ready-to-drink black coffee, tested cold. Rh...   \n",
            "...                                                 ...   \n",
            "811   Evaluated as espresso produced as a ristretto ...   \n",
            "1755  Decadently rich, resonantly chocolaty, floral-...   \n",
            "1785  Richly floral-toned, elegant, complex. Star ja...   \n",
            "1578  Richly sweet-tart, delicately balanced. Lychee...   \n",
            "1577  Aromatically other-worldly, resoundingly juicy...   \n",
            "\n",
            "                                                 desc_2  \\\n",
            "209   This coffee tied for the fifth-highest rating ...   \n",
            "763   This coffee tied for the third-highest rating ...   \n",
            "673   This coffee was tested as part of a survey of ...   \n",
            "1732  A blend of coffees from India, Brazil, Ethiopi...   \n",
            "814   This coffee tied for the second-highest rating...   \n",
            "...                                                 ...   \n",
            "811   One of the world’s most celebrated coffees pre...   \n",
            "1755  Produced at Finca Cruz Loma from the Typica Me...   \n",
            "1785  Produced at Finca Cruz Loma from the Typica Me...   \n",
            "1578  This exceptional coffee was selected as the No...   \n",
            "1577  This exceptional coffee was selected as the No...   \n",
            "\n",
            "                                                 desc_3  \n",
            "209   An easy-drinking, richly sweet cold-brew coffe...  \n",
            "763   We taste this coffee year-in and year-out, and...  \n",
            "673   A sweet though muted Guatemala cup: roasty coc...  \n",
            "1732  A friendly, accessible, richly chocolate-drive...  \n",
            "814   A grown-up cold brew with cleanly wine-like su...  \n",
            "...                                                 ...  \n",
            "811   A nuanced, subtle washed Panama Geisha in Nesp...  \n",
            "1755  A complex, multi-layered Ecuador cup, with dis...  \n",
            "1785  A beautifully structured, floral-toned Ecuador...  \n",
            "1578  A deep, richly aromatic, lyrically sweet-tart ...  \n",
            "1577  An opulent rendition of the rare Mokkita varie...  \n",
            "\n",
            "[2095 rows x 12 columns]\n"
          ]
        }
      ]
    },
    {
      "cell_type": "code",
      "source": [
        "df = datos[[\"100g_USD\",\"loc_country\"]]\n",
        "\n",
        "df = datos.rename(columns={\n",
        "    \"100g_USD\":\"PRECIO_POR_100G\",\n",
        "    \"loc_country\":\"PAIS\"\n",
        "})\n",
        "\n",
        "print(df)"
      ],
      "metadata": {
        "id": "SFuERf-uJBpy",
        "colab": {
          "base_uri": "https://localhost:8080/"
        },
        "outputId": "d85040ef-f7a9-494c-80a8-2f20f5a4620e"
      },
      "execution_count": 6,
      "outputs": [
        {
          "output_type": "stream",
          "name": "stdout",
          "text": [
            "                            name                    roaster         roast  \\\n",
            "0        “Sweety” Espresso Blend                     A.R.C.  Medium-Light   \n",
            "1           Flora Blend Espresso                     A.R.C.  Medium-Light   \n",
            "2       Ethiopia Shakiso Mormora               Revel Coffee  Medium-Light   \n",
            "3             Ethiopia Suke Quto                Roast House  Medium-Light   \n",
            "4     Ethiopia Gedeb Halo Beriti  Big Creek Coffee Roasters        Medium   \n",
            "...                          ...                        ...           ...   \n",
            "2090              Finca Patzibir               El Gran Cafe  Medium-Light   \n",
            "2091             Proyecto Aurora               El Gran Cafe  Medium-Light   \n",
            "2092            Finca El Potrero               El Gran Cafe  Medium-Light   \n",
            "2093    Chacayá Santiago Atitlán               El Gran Cafe  Medium-Light   \n",
            "2094              Espresso No. 3               El Gran Cafe  Medium-Light   \n",
            "\n",
            "               PAIS                     origin_1           origin_2  \\\n",
            "0         Hong Kong                       Panama           Ethiopia   \n",
            "1         Hong Kong                       Africa       Asia Pacific   \n",
            "2     United States                    Guji Zone  Southern Ethiopia   \n",
            "3     United States                    Guji Zone      Oromia Region   \n",
            "4     United States               Gedeb District         Gedeo Zone   \n",
            "...             ...                          ...                ...   \n",
            "2090      Guatemala  Lake Atitlán Growing Region          Guatemala   \n",
            "2091      Guatemala       Antigua Growing Region          Guatemala   \n",
            "2092      Guatemala       Antigua Growing Region          Guatemala   \n",
            "2093      Guatemala  Lake Atitlán Growing Region          Guatemala   \n",
            "2094      Guatemala       Antigua Growing Region          Guatemala   \n",
            "\n",
            "      PRECIO_POR_100G  rating    review_date  \\\n",
            "0               14.32      95  November 2017   \n",
            "1                9.05      94  November 2017   \n",
            "2                4.70      92  November 2017   \n",
            "3                4.19      92  November 2017   \n",
            "4                4.85      94  November 2017   \n",
            "...               ...     ...            ...   \n",
            "2090             4.70      92  November 2022   \n",
            "2091             2.94      93  November 2022   \n",
            "2092             2.94      93  November 2022   \n",
            "2093             4.70      93  November 2022   \n",
            "2094             5.88      94  November 2022   \n",
            "\n",
            "                                                 desc_1  \\\n",
            "0     Evaluated as espresso. Sweet-toned, deeply ric...   \n",
            "1     Evaluated as espresso. Sweetly tart, floral-to...   \n",
            "2     Crisply sweet, cocoa-toned. Lemon blossom, roa...   \n",
            "3     Delicate, sweetly spice-toned. Pink peppercorn...   \n",
            "4     Deeply sweet, subtly pungent. Honey, pear, tan...   \n",
            "...                                                 ...   \n",
            "2090  Crisply sweet, nut-toned. Almond brittle, pie ...   \n",
            "2091  Chocolaty, floral-framed. Cocoa nib, honeysuck...   \n",
            "2092  High-toned, enticingly sweet. Black cherry, na...   \n",
            "2093   Vibrantly sweet, subtly nuanced. Apricot, dar...   \n",
            "2094  Evaluated as espresso. Multi-layered, complex....   \n",
            "\n",
            "                                                 desc_2  \\\n",
            "0     An espresso blend comprised of coffees from Pa...   \n",
            "1     An espresso blend comprised of coffees from Af...   \n",
            "2     This coffee tied for the third-highest rating ...   \n",
            "3     This coffee tied for the third-highest rating ...   \n",
            "4     Southern Ethiopia coffees like this one are pr...   \n",
            "...                                                 ...   \n",
            "2090  Produced by Andres Fahsen of Finca Patzibar en...   \n",
            "2091  Produced at Beneficio La Esperanza from trees ...   \n",
            "2092   Produced by Josué Morales of Finca El Potrero...   \n",
            "2093  Produced by smallholding farmers of Asociación...   \n",
            "2094  Produced by Josué Morales at Finca Villa La Es...   \n",
            "\n",
            "                                                 desc_3  \n",
            "0     A radiant espresso blend that shines equally i...  \n",
            "1     A floral-driven straight shot, amplified with ...  \n",
            "2     A gently spice-toned, floral- driven wet-proce...  \n",
            "3     Lavender-like flowers and hints of zesty pink ...  \n",
            "4     A deeply and generously lush cup saved from se...  \n",
            "...                                                 ...  \n",
            "2090  A quietly confident, sweetly nut-toned Guatema...  \n",
            "2091  A deeply floral, richly chocolaty Guatemala cu...  \n",
            "2092  A bright, balanced, juicy Guatemala cup driven...  \n",
            "2093  Balanced, bright, invigoratingly crisp, with t...  \n",
            "2094  This single-farm Guatemala espresso displays t...  \n",
            "\n",
            "[2095 rows x 12 columns]\n"
          ]
        }
      ]
    },
    {
      "cell_type": "code",
      "source": [
        "df.PRECIO_POR_100G.plot.hist( color = \"silver\", ec=\"green\")"
      ],
      "metadata": {
        "colab": {
          "base_uri": "https://localhost:8080/",
          "height": 448
        },
        "id": "_5E4wJyaHfbC",
        "outputId": "089a0d35-1cda-4682-bd7b-2df4b154ce6e"
      },
      "execution_count": 7,
      "outputs": [
        {
          "output_type": "execute_result",
          "data": {
            "text/plain": [
              "<Axes: ylabel='Frequency'>"
            ]
          },
          "metadata": {},
          "execution_count": 7
        },
        {
          "output_type": "display_data",
          "data": {
            "text/plain": [
              "<Figure size 640x480 with 1 Axes>"
            ],
            "image/png": "[encoded data removed]"
          },
          "metadata": {}
        }
      ]
    }
  ]
}