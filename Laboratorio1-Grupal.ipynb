{
  "nbformat": 4,
  "nbformat_minor": 0,
  "metadata": {
    "colab": {
      "provenance": []
    },
    "kernelspec": {
      "name": "python3",
      "display_name": "Python 3"
    },
    "language_info": {
      "name": "python"
    }
  },
  "cells": [
    {
      "cell_type": "code",
      "execution_count": null,
      "metadata": {
        "colab": {
          "base_uri": "https://localhost:8080/"
        },
        "id": "9NMbPHUGzfBI",
        "outputId": "fe846c3c-5d78-434f-a99a-be5ea3ddeb63"
      },
      "outputs": [
        {
          "output_type": "stream",
          "name": "stdout",
          "text": [
            "Promedio de los elementos del Vector\n",
            "Cantidad de temperaturas\n"
          ]
        }
      ],
      "source": [
        "# Gerardo Salazar Vargas\n",
        "# Angie Soza Hidalgo\n",
        "# Francisco Arias Sanabria\n",
        "# Josafat Arguedas Gutiérrez\n",
        "import statistics\n",
        "from statistics import *\n",
        "import math\n",
        "print(\"Promedio de los elementos del Vector\")\n",
        "Suma = 0\n",
        "Media = 0\n",
        "Temp = []\n",
        "\n",
        "print(\"Cantidad de temperaturas\")\n",
        "N = int(input())\n",
        "\n",
        "for i in range(N):\n",
        "  temperatura = float(input(\"Ingrese la temperatura:\"))\n",
        "  Temp.append(temperatura)\n",
        "  Suma = Suma + Temp[i]\n",
        "\n",
        "# Media\n",
        "# En este caso, la Media corresponde al valor promedio de las temperaturas, ya que se obtiene al sumar todos los valores de las temperaturas y dividarlas entre el total de ellas\n",
        "# Para el caso con el vector de temperaturas [10,20,30,10,5], el valor de la media fue 15 grados, lo que quiere decir que al sumar todos los valores de temperaturas del vector, y dividirlos entre la cantidad de estos, el resultado es 15\n",
        "Media = Suma / N\n",
        "print(\"Media:\", Media)\n",
        "\n",
        "# mediana\n",
        "# La mediana corresponde, en este caso, al valor que está en el medio del vector de temperaturas\n",
        "# Si el numero de valores es par, corresponde a un promedio de los 2 numeros del centro\n",
        "# Para el caso con el vector de temperaturas [10,20,30,10,5], el valor de la mediana fue 10 grados, lo que quiere decir que este corresponde al valor de la temperatura que está justo en medio del vector de temperaturas\n",
        "Mediana = statistics.median(Temp)\n",
        "print(f\"La mediana es: {Mediana}\")\n",
        "\n",
        "# moda\n",
        "# La moda corresponde al valor que más se repite en el vector de temperaturas\n",
        "# Para el caso con el vector de temperaturas [10,20,30,10,5], el valor de la moda fue 10 grados, lo que quiere decir que 10 es el elemento de la temperatura que más apareció\n",
        "Moda = multimode(Temp)\n",
        "print(f\"La moda es : {Moda}\")\n",
        "\n",
        "# Varianza\n",
        "# La varianza es una medida de dispersión que representa la variabilidad de una serie de datos con respecto a su media\n",
        "# Para el caso con el vector de temperaturas [10,20,30,10,5], el valor de la varianza de la temperaturas fue de 10, lo que se interpreta como lo alejado que está este valor de temperatura de la media\n",
        "# En este caso la varianza es bastante notable, que el valor de esta se aleja mucho del valor de la mediana\n",
        "\n",
        "varianza = math.sqrt(statistics.variance(Temp))\n",
        "print(\"Variancia:\", varianza)\n",
        "\n",
        "# Desviacion estandar\n",
        "# Se interpreta como que tanto se alejan los valores del promedio\n",
        "# Para el caso con el vector de temperaturas [10,20,30,10,5], este valor fue de 10 grados, lo que quiere decir que los valores de temperaturas no están tan alejados del promedio, ya que este valor es de 15 grados\n",
        "desviacion_estandar = statistics.stdev(Temp)\n",
        "print(\"Desviación Estándar:\", desviacion_estandar)\n"
      ]
    },
    {
      "cell_type": "code",
      "source": [],
      "metadata": {
        "id": "kZvMpi1JA55H"
      },
      "execution_count": null,
      "outputs": []
    }
  ]
}